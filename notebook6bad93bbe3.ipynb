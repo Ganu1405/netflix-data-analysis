{
 "cells": [
  {
   "cell_type": "code",
   "execution_count": 1,
   "id": "ea5a3bcb",
   "metadata": {
    "_cell_guid": "b1076dfc-b9ad-4769-8c92-a6c4dae69d19",
    "_uuid": "8f2839f25d086af736a60e9eeb907d3b93b6e0e5",
    "execution": {
     "iopub.execute_input": "2023-03-09T22:06:17.149135Z",
     "iopub.status.busy": "2023-03-09T22:06:17.148750Z",
     "iopub.status.idle": "2023-03-09T22:06:17.173862Z",
     "shell.execute_reply": "2023-03-09T22:06:17.172333Z"
    },
    "papermill": {
     "duration": 0.039619,
     "end_time": "2023-03-09T22:06:17.176151",
     "exception": false,
     "start_time": "2023-03-09T22:06:17.136532",
     "status": "completed"
    },
    "tags": []
   },
   "outputs": [
    {
     "name": "stdout",
     "output_type": "stream",
     "text": [
      "/kaggle/input/dataset-netflix-shows/netflix_titles.csv\n"
     ]
    }
   ],
   "source": [
    "# This Python 3 environment comes with many helpful analytics libraries installed\n",
    "# It is defined by the kaggle/python Docker image: https://github.com/kaggle/docker-python\n",
    "# For example, here's several helpful packages to load\n",
    "\n",
    "import numpy as np # linear algebra\n",
    "import pandas as pd # data processing, CSV file I/O (e.g. pd.read_csv)\n",
    "\n",
    "# Input data files are available in the read-only \"../input/\" directory\n",
    "# For example, running this (by clicking run or pressing Shift+Enter) will list all files under the input directory\n",
    "\n",
    "import os\n",
    "for dirname, _, filenames in os.walk('/kaggle/input'):\n",
    "    for filename in filenames:\n",
    "        print(os.path.join(dirname, filename))\n",
    "\n",
    "# You can write up to 20GB to the current directory (/kaggle/working/) that gets preserved as output when you create a version using \"Save & Run All\" \n",
    "# You can also write temporary files to /kaggle/temp/, but they won't be saved outside of the current session"
   ]
  },
  {
   "cell_type": "markdown",
   "id": "da4e8d39",
   "metadata": {
    "papermill": {
     "duration": 0.009227,
     "end_time": "2023-03-09T22:06:17.195060",
     "exception": false,
     "start_time": "2023-03-09T22:06:17.185833",
     "status": "completed"
    },
    "tags": []
   },
   "source": [
    "### Netflix EDA \n",
    "perform the exploratory  data analysis to understand the dataset"
   ]
  },
  {
   "cell_type": "markdown",
   "id": "42ba1c87",
   "metadata": {
    "papermill": {
     "duration": 0.009253,
     "end_time": "2023-03-09T22:06:17.213770",
     "exception": false,
     "start_time": "2023-03-09T22:06:17.204517",
     "status": "completed"
    },
    "tags": []
   },
   "source": [
    "### Task\n",
    "1) Understand the dataset ,types and missing valve \n",
    "2) Clean the dataset and handle the missing valve \n",
    "3) perform data visualization\n",
    "4)Create final summary report\n"
   ]
  },
  {
   "cell_type": "code",
   "execution_count": 2,
   "id": "a4b17d87",
   "metadata": {
    "execution": {
     "iopub.execute_input": "2023-03-09T22:06:17.236474Z",
     "iopub.status.busy": "2023-03-09T22:06:17.235459Z",
     "iopub.status.idle": "2023-03-09T22:06:18.201289Z",
     "shell.execute_reply": "2023-03-09T22:06:18.199480Z"
    },
    "jupyter": {
     "source_hidden": true
    },
    "papermill": {
     "duration": 0.979742,
     "end_time": "2023-03-09T22:06:18.204230",
     "exception": false,
     "start_time": "2023-03-09T22:06:17.224488",
     "status": "completed"
    },
    "tags": []
   },
   "outputs": [],
   "source": [
    "# import libraries\n",
    "import pandas as pd\n",
    "import numpy as np \n",
    "import matplotlib.pyplot as plt\n",
    "import seaborn as sns\n",
    "\n"
   ]
  },
  {
   "cell_type": "code",
   "execution_count": 3,
   "id": "67e335c2",
   "metadata": {
    "execution": {
     "iopub.execute_input": "2023-03-09T22:06:18.225669Z",
     "iopub.status.busy": "2023-03-09T22:06:18.225289Z",
     "iopub.status.idle": "2023-03-09T22:06:18.397864Z",
     "shell.execute_reply": "2023-03-09T22:06:18.396871Z"
    },
    "papermill": {
     "duration": 0.186179,
     "end_time": "2023-03-09T22:06:18.400374",
     "exception": false,
     "start_time": "2023-03-09T22:06:18.214195",
     "status": "completed"
    },
    "tags": []
   },
   "outputs": [
    {
     "data": {
      "text/html": [
       "<div>\n",
       "<style scoped>\n",
       "    .dataframe tbody tr th:only-of-type {\n",
       "        vertical-align: middle;\n",
       "    }\n",
       "\n",
       "    .dataframe tbody tr th {\n",
       "        vertical-align: top;\n",
       "    }\n",
       "\n",
       "    .dataframe thead th {\n",
       "        text-align: right;\n",
       "    }\n",
       "</style>\n",
       "<table border=\"1\" class=\"dataframe\">\n",
       "  <thead>\n",
       "    <tr style=\"text-align: right;\">\n",
       "      <th></th>\n",
       "      <th>show_id</th>\n",
       "      <th>type</th>\n",
       "      <th>title</th>\n",
       "      <th>director</th>\n",
       "      <th>cast</th>\n",
       "      <th>country</th>\n",
       "      <th>date_added</th>\n",
       "      <th>release_year</th>\n",
       "      <th>rating</th>\n",
       "      <th>duration</th>\n",
       "      <th>listed_in</th>\n",
       "      <th>description</th>\n",
       "    </tr>\n",
       "  </thead>\n",
       "  <tbody>\n",
       "    <tr>\n",
       "      <th>0</th>\n",
       "      <td>s1</td>\n",
       "      <td>Movie</td>\n",
       "      <td>Dick Johnson Is Dead</td>\n",
       "      <td>Kirsten Johnson</td>\n",
       "      <td>NaN</td>\n",
       "      <td>United States</td>\n",
       "      <td>September 25, 2021</td>\n",
       "      <td>2020</td>\n",
       "      <td>PG-13</td>\n",
       "      <td>90 min</td>\n",
       "      <td>Documentaries</td>\n",
       "      <td>As her father nears the end of his life, filmm...</td>\n",
       "    </tr>\n",
       "    <tr>\n",
       "      <th>1</th>\n",
       "      <td>s2</td>\n",
       "      <td>TV Show</td>\n",
       "      <td>Blood &amp; Water</td>\n",
       "      <td>NaN</td>\n",
       "      <td>Ama Qamata, Khosi Ngema, Gail Mabalane, Thaban...</td>\n",
       "      <td>South Africa</td>\n",
       "      <td>September 24, 2021</td>\n",
       "      <td>2021</td>\n",
       "      <td>TV-MA</td>\n",
       "      <td>2 Seasons</td>\n",
       "      <td>International TV Shows, TV Dramas, TV Mysteries</td>\n",
       "      <td>After crossing paths at a party, a Cape Town t...</td>\n",
       "    </tr>\n",
       "    <tr>\n",
       "      <th>2</th>\n",
       "      <td>s3</td>\n",
       "      <td>TV Show</td>\n",
       "      <td>Ganglands</td>\n",
       "      <td>Julien Leclercq</td>\n",
       "      <td>Sami Bouajila, Tracy Gotoas, Samuel Jouy, Nabi...</td>\n",
       "      <td>NaN</td>\n",
       "      <td>September 24, 2021</td>\n",
       "      <td>2021</td>\n",
       "      <td>TV-MA</td>\n",
       "      <td>1 Season</td>\n",
       "      <td>Crime TV Shows, International TV Shows, TV Act...</td>\n",
       "      <td>To protect his family from a powerful drug lor...</td>\n",
       "    </tr>\n",
       "    <tr>\n",
       "      <th>3</th>\n",
       "      <td>s4</td>\n",
       "      <td>TV Show</td>\n",
       "      <td>Jailbirds New Orleans</td>\n",
       "      <td>NaN</td>\n",
       "      <td>NaN</td>\n",
       "      <td>NaN</td>\n",
       "      <td>September 24, 2021</td>\n",
       "      <td>2021</td>\n",
       "      <td>TV-MA</td>\n",
       "      <td>1 Season</td>\n",
       "      <td>Docuseries, Reality TV</td>\n",
       "      <td>Feuds, flirtations and toilet talk go down amo...</td>\n",
       "    </tr>\n",
       "    <tr>\n",
       "      <th>4</th>\n",
       "      <td>s5</td>\n",
       "      <td>TV Show</td>\n",
       "      <td>Kota Factory</td>\n",
       "      <td>NaN</td>\n",
       "      <td>Mayur More, Jitendra Kumar, Ranjan Raj, Alam K...</td>\n",
       "      <td>India</td>\n",
       "      <td>September 24, 2021</td>\n",
       "      <td>2021</td>\n",
       "      <td>TV-MA</td>\n",
       "      <td>2 Seasons</td>\n",
       "      <td>International TV Shows, Romantic TV Shows, TV ...</td>\n",
       "      <td>In a city of coaching centers known to train I...</td>\n",
       "    </tr>\n",
       "  </tbody>\n",
       "</table>\n",
       "</div>"
      ],
      "text/plain": [
       "  show_id     type                  title         director  \\\n",
       "0      s1    Movie   Dick Johnson Is Dead  Kirsten Johnson   \n",
       "1      s2  TV Show          Blood & Water              NaN   \n",
       "2      s3  TV Show              Ganglands  Julien Leclercq   \n",
       "3      s4  TV Show  Jailbirds New Orleans              NaN   \n",
       "4      s5  TV Show           Kota Factory              NaN   \n",
       "\n",
       "                                                cast        country  \\\n",
       "0                                                NaN  United States   \n",
       "1  Ama Qamata, Khosi Ngema, Gail Mabalane, Thaban...   South Africa   \n",
       "2  Sami Bouajila, Tracy Gotoas, Samuel Jouy, Nabi...            NaN   \n",
       "3                                                NaN            NaN   \n",
       "4  Mayur More, Jitendra Kumar, Ranjan Raj, Alam K...          India   \n",
       "\n",
       "           date_added  release_year rating   duration  \\\n",
       "0  September 25, 2021          2020  PG-13     90 min   \n",
       "1  September 24, 2021          2021  TV-MA  2 Seasons   \n",
       "2  September 24, 2021          2021  TV-MA   1 Season   \n",
       "3  September 24, 2021          2021  TV-MA   1 Season   \n",
       "4  September 24, 2021          2021  TV-MA  2 Seasons   \n",
       "\n",
       "                                           listed_in  \\\n",
       "0                                      Documentaries   \n",
       "1    International TV Shows, TV Dramas, TV Mysteries   \n",
       "2  Crime TV Shows, International TV Shows, TV Act...   \n",
       "3                             Docuseries, Reality TV   \n",
       "4  International TV Shows, Romantic TV Shows, TV ...   \n",
       "\n",
       "                                         description  \n",
       "0  As her father nears the end of his life, filmm...  \n",
       "1  After crossing paths at a party, a Cape Town t...  \n",
       "2  To protect his family from a powerful drug lor...  \n",
       "3  Feuds, flirtations and toilet talk go down amo...  \n",
       "4  In a city of coaching centers known to train I...  "
      ]
     },
     "execution_count": 3,
     "metadata": {},
     "output_type": "execute_result"
    }
   ],
   "source": [
    "df = pd.read_csv(\"/kaggle/input/dataset-netflix-shows/netflix_titles.csv\")\n",
    "df.head()"
   ]
  },
  {
   "cell_type": "code",
   "execution_count": 4,
   "id": "0bf8f8d6",
   "metadata": {
    "execution": {
     "iopub.execute_input": "2023-03-09T22:06:18.422772Z",
     "iopub.status.busy": "2023-03-09T22:06:18.421701Z",
     "iopub.status.idle": "2023-03-09T22:06:18.428852Z",
     "shell.execute_reply": "2023-03-09T22:06:18.427767Z"
    },
    "papermill": {
     "duration": 0.020414,
     "end_time": "2023-03-09T22:06:18.430782",
     "exception": false,
     "start_time": "2023-03-09T22:06:18.410368",
     "status": "completed"
    },
    "tags": []
   },
   "outputs": [
    {
     "data": {
      "text/plain": [
       "Index(['show_id', 'type', 'title', 'director', 'cast', 'country', 'date_added',\n",
       "       'release_year', 'rating', 'duration', 'listed_in', 'description'],\n",
       "      dtype='object')"
      ]
     },
     "execution_count": 4,
     "metadata": {},
     "output_type": "execute_result"
    }
   ],
   "source": [
    "df.columns     ## its returns all Columns name"
   ]
  },
  {
   "cell_type": "code",
   "execution_count": 5,
   "id": "9912f090",
   "metadata": {
    "execution": {
     "iopub.execute_input": "2023-03-09T22:06:18.452493Z",
     "iopub.status.busy": "2023-03-09T22:06:18.451416Z",
     "iopub.status.idle": "2023-03-09T22:06:18.479612Z",
     "shell.execute_reply": "2023-03-09T22:06:18.477500Z"
    },
    "papermill": {
     "duration": 0.041845,
     "end_time": "2023-03-09T22:06:18.482628",
     "exception": false,
     "start_time": "2023-03-09T22:06:18.440783",
     "status": "completed"
    },
    "tags": []
   },
   "outputs": [
    {
     "name": "stdout",
     "output_type": "stream",
     "text": [
      "<class 'pandas.core.frame.DataFrame'>\n",
      "RangeIndex: 8807 entries, 0 to 8806\n",
      "Data columns (total 12 columns):\n",
      " #   Column        Non-Null Count  Dtype \n",
      "---  ------        --------------  ----- \n",
      " 0   show_id       8807 non-null   object\n",
      " 1   type          8807 non-null   object\n",
      " 2   title         8807 non-null   object\n",
      " 3   director      6173 non-null   object\n",
      " 4   cast          7982 non-null   object\n",
      " 5   country       7976 non-null   object\n",
      " 6   date_added    8797 non-null   object\n",
      " 7   release_year  8807 non-null   int64 \n",
      " 8   rating        8803 non-null   object\n",
      " 9   duration      8804 non-null   object\n",
      " 10  listed_in     8807 non-null   object\n",
      " 11  description   8807 non-null   object\n",
      "dtypes: int64(1), object(11)\n",
      "memory usage: 825.8+ KB\n"
     ]
    }
   ],
   "source": [
    "df.info()"
   ]
  },
  {
   "cell_type": "markdown",
   "id": "0a4f564d",
   "metadata": {
    "papermill": {
     "duration": 0.009931,
     "end_time": "2023-03-09T22:06:18.502850",
     "exception": false,
     "start_time": "2023-03-09T22:06:18.492919",
     "status": "completed"
    },
    "tags": []
   },
   "source": [
    "# convert datatype from object to Datetime\n"
   ]
  },
  {
   "cell_type": "code",
   "execution_count": 6,
   "id": "28171613",
   "metadata": {
    "execution": {
     "iopub.execute_input": "2023-03-09T22:06:18.526076Z",
     "iopub.status.busy": "2023-03-09T22:06:18.525100Z",
     "iopub.status.idle": "2023-03-09T22:06:18.713054Z",
     "shell.execute_reply": "2023-03-09T22:06:18.711851Z"
    },
    "papermill": {
     "duration": 0.202039,
     "end_time": "2023-03-09T22:06:18.714891",
     "exception": false,
     "start_time": "2023-03-09T22:06:18.512852",
     "status": "completed"
    },
    "tags": []
   },
   "outputs": [
    {
     "data": {
      "text/html": [
       "<div>\n",
       "<style scoped>\n",
       "    .dataframe tbody tr th:only-of-type {\n",
       "        vertical-align: middle;\n",
       "    }\n",
       "\n",
       "    .dataframe tbody tr th {\n",
       "        vertical-align: top;\n",
       "    }\n",
       "\n",
       "    .dataframe thead th {\n",
       "        text-align: right;\n",
       "    }\n",
       "</style>\n",
       "<table border=\"1\" class=\"dataframe\">\n",
       "  <thead>\n",
       "    <tr style=\"text-align: right;\">\n",
       "      <th></th>\n",
       "      <th>show_id</th>\n",
       "      <th>type</th>\n",
       "      <th>title</th>\n",
       "      <th>director</th>\n",
       "      <th>cast</th>\n",
       "      <th>country</th>\n",
       "      <th>date_added</th>\n",
       "      <th>release_year</th>\n",
       "      <th>rating</th>\n",
       "      <th>duration</th>\n",
       "      <th>listed_in</th>\n",
       "      <th>description</th>\n",
       "    </tr>\n",
       "  </thead>\n",
       "  <tbody>\n",
       "    <tr>\n",
       "      <th>0</th>\n",
       "      <td>s1</td>\n",
       "      <td>Movie</td>\n",
       "      <td>Dick Johnson Is Dead</td>\n",
       "      <td>Kirsten Johnson</td>\n",
       "      <td>NaN</td>\n",
       "      <td>United States</td>\n",
       "      <td>2021-09-25</td>\n",
       "      <td>2020</td>\n",
       "      <td>PG-13</td>\n",
       "      <td>90 min</td>\n",
       "      <td>Documentaries</td>\n",
       "      <td>As her father nears the end of his life, filmm...</td>\n",
       "    </tr>\n",
       "    <tr>\n",
       "      <th>1</th>\n",
       "      <td>s2</td>\n",
       "      <td>TV Show</td>\n",
       "      <td>Blood &amp; Water</td>\n",
       "      <td>NaN</td>\n",
       "      <td>Ama Qamata, Khosi Ngema, Gail Mabalane, Thaban...</td>\n",
       "      <td>South Africa</td>\n",
       "      <td>2021-09-24</td>\n",
       "      <td>2021</td>\n",
       "      <td>TV-MA</td>\n",
       "      <td>2 Seasons</td>\n",
       "      <td>International TV Shows, TV Dramas, TV Mysteries</td>\n",
       "      <td>After crossing paths at a party, a Cape Town t...</td>\n",
       "    </tr>\n",
       "    <tr>\n",
       "      <th>2</th>\n",
       "      <td>s3</td>\n",
       "      <td>TV Show</td>\n",
       "      <td>Ganglands</td>\n",
       "      <td>Julien Leclercq</td>\n",
       "      <td>Sami Bouajila, Tracy Gotoas, Samuel Jouy, Nabi...</td>\n",
       "      <td>NaN</td>\n",
       "      <td>2021-09-24</td>\n",
       "      <td>2021</td>\n",
       "      <td>TV-MA</td>\n",
       "      <td>1 Season</td>\n",
       "      <td>Crime TV Shows, International TV Shows, TV Act...</td>\n",
       "      <td>To protect his family from a powerful drug lor...</td>\n",
       "    </tr>\n",
       "    <tr>\n",
       "      <th>3</th>\n",
       "      <td>s4</td>\n",
       "      <td>TV Show</td>\n",
       "      <td>Jailbirds New Orleans</td>\n",
       "      <td>NaN</td>\n",
       "      <td>NaN</td>\n",
       "      <td>NaN</td>\n",
       "      <td>2021-09-24</td>\n",
       "      <td>2021</td>\n",
       "      <td>TV-MA</td>\n",
       "      <td>1 Season</td>\n",
       "      <td>Docuseries, Reality TV</td>\n",
       "      <td>Feuds, flirtations and toilet talk go down amo...</td>\n",
       "    </tr>\n",
       "    <tr>\n",
       "      <th>4</th>\n",
       "      <td>s5</td>\n",
       "      <td>TV Show</td>\n",
       "      <td>Kota Factory</td>\n",
       "      <td>NaN</td>\n",
       "      <td>Mayur More, Jitendra Kumar, Ranjan Raj, Alam K...</td>\n",
       "      <td>India</td>\n",
       "      <td>2021-09-24</td>\n",
       "      <td>2021</td>\n",
       "      <td>TV-MA</td>\n",
       "      <td>2 Seasons</td>\n",
       "      <td>International TV Shows, Romantic TV Shows, TV ...</td>\n",
       "      <td>In a city of coaching centers known to train I...</td>\n",
       "    </tr>\n",
       "  </tbody>\n",
       "</table>\n",
       "</div>"
      ],
      "text/plain": [
       "  show_id     type                  title         director  \\\n",
       "0      s1    Movie   Dick Johnson Is Dead  Kirsten Johnson   \n",
       "1      s2  TV Show          Blood & Water              NaN   \n",
       "2      s3  TV Show              Ganglands  Julien Leclercq   \n",
       "3      s4  TV Show  Jailbirds New Orleans              NaN   \n",
       "4      s5  TV Show           Kota Factory              NaN   \n",
       "\n",
       "                                                cast        country  \\\n",
       "0                                                NaN  United States   \n",
       "1  Ama Qamata, Khosi Ngema, Gail Mabalane, Thaban...   South Africa   \n",
       "2  Sami Bouajila, Tracy Gotoas, Samuel Jouy, Nabi...            NaN   \n",
       "3                                                NaN            NaN   \n",
       "4  Mayur More, Jitendra Kumar, Ranjan Raj, Alam K...          India   \n",
       "\n",
       "  date_added  release_year rating   duration  \\\n",
       "0 2021-09-25          2020  PG-13     90 min   \n",
       "1 2021-09-24          2021  TV-MA  2 Seasons   \n",
       "2 2021-09-24          2021  TV-MA   1 Season   \n",
       "3 2021-09-24          2021  TV-MA   1 Season   \n",
       "4 2021-09-24          2021  TV-MA  2 Seasons   \n",
       "\n",
       "                                           listed_in  \\\n",
       "0                                      Documentaries   \n",
       "1    International TV Shows, TV Dramas, TV Mysteries   \n",
       "2  Crime TV Shows, International TV Shows, TV Act...   \n",
       "3                             Docuseries, Reality TV   \n",
       "4  International TV Shows, Romantic TV Shows, TV ...   \n",
       "\n",
       "                                         description  \n",
       "0  As her father nears the end of his life, filmm...  \n",
       "1  After crossing paths at a party, a Cape Town t...  \n",
       "2  To protect his family from a powerful drug lor...  \n",
       "3  Feuds, flirtations and toilet talk go down amo...  \n",
       "4  In a city of coaching centers known to train I...  "
      ]
     },
     "execution_count": 6,
     "metadata": {},
     "output_type": "execute_result"
    }
   ],
   "source": [
    "df['date_added'] = pd.to_datetime(df['date_added'])\n",
    "df.head()"
   ]
  },
  {
   "cell_type": "code",
   "execution_count": 7,
   "id": "c49d242d",
   "metadata": {
    "execution": {
     "iopub.execute_input": "2023-03-09T22:06:18.737320Z",
     "iopub.status.busy": "2023-03-09T22:06:18.736903Z",
     "iopub.status.idle": "2023-03-09T22:06:18.745488Z",
     "shell.execute_reply": "2023-03-09T22:06:18.744003Z"
    },
    "papermill": {
     "duration": 0.022804,
     "end_time": "2023-03-09T22:06:18.748044",
     "exception": false,
     "start_time": "2023-03-09T22:06:18.725240",
     "status": "completed"
    },
    "tags": []
   },
   "outputs": [
    {
     "data": {
      "text/plain": [
       "show_id                 object\n",
       "type                    object\n",
       "title                   object\n",
       "director                object\n",
       "cast                    object\n",
       "country                 object\n",
       "date_added      datetime64[ns]\n",
       "release_year             int64\n",
       "rating                  object\n",
       "duration                object\n",
       "listed_in               object\n",
       "description             object\n",
       "dtype: object"
      ]
     },
     "execution_count": 7,
     "metadata": {},
     "output_type": "execute_result"
    }
   ],
   "source": [
    "df.dtypes"
   ]
  },
  {
   "cell_type": "code",
   "execution_count": 8,
   "id": "f3502317",
   "metadata": {
    "execution": {
     "iopub.execute_input": "2023-03-09T22:06:18.771012Z",
     "iopub.status.busy": "2023-03-09T22:06:18.770613Z",
     "iopub.status.idle": "2023-03-09T22:06:18.775104Z",
     "shell.execute_reply": "2023-03-09T22:06:18.774225Z"
    },
    "papermill": {
     "duration": 0.018427,
     "end_time": "2023-03-09T22:06:18.777142",
     "exception": false,
     "start_time": "2023-03-09T22:06:18.758715",
     "status": "completed"
    },
    "tags": []
   },
   "outputs": [],
   "source": [
    "#df['year'] = df['date'].year\n",
    "#df['year']= df['date_added'].dt.year,\n",
    "#df.head(2)"
   ]
  },
  {
   "cell_type": "code",
   "execution_count": 9,
   "id": "2535d65d",
   "metadata": {
    "execution": {
     "iopub.execute_input": "2023-03-09T22:06:18.799893Z",
     "iopub.status.busy": "2023-03-09T22:06:18.799529Z",
     "iopub.status.idle": "2023-03-09T22:06:18.812974Z",
     "shell.execute_reply": "2023-03-09T22:06:18.812150Z"
    },
    "papermill": {
     "duration": 0.026986,
     "end_time": "2023-03-09T22:06:18.814698",
     "exception": false,
     "start_time": "2023-03-09T22:06:18.787712",
     "status": "completed"
    },
    "tags": []
   },
   "outputs": [
    {
     "data": {
      "text/plain": [
       "show_id            0\n",
       "type               0\n",
       "title              0\n",
       "director        2634\n",
       "cast             825\n",
       "country          831\n",
       "date_added        10\n",
       "release_year       0\n",
       "rating             4\n",
       "duration           3\n",
       "listed_in          0\n",
       "description        0\n",
       "dtype: int64"
      ]
     },
     "execution_count": 9,
     "metadata": {},
     "output_type": "execute_result"
    }
   ],
   "source": [
    "df.isnull().sum()"
   ]
  },
  {
   "cell_type": "code",
   "execution_count": 10,
   "id": "c4a97194",
   "metadata": {
    "execution": {
     "iopub.execute_input": "2023-03-09T22:06:18.837425Z",
     "iopub.status.busy": "2023-03-09T22:06:18.837081Z",
     "iopub.status.idle": "2023-03-09T22:06:18.843105Z",
     "shell.execute_reply": "2023-03-09T22:06:18.842401Z"
    },
    "papermill": {
     "duration": 0.019339,
     "end_time": "2023-03-09T22:06:18.844641",
     "exception": false,
     "start_time": "2023-03-09T22:06:18.825302",
     "status": "completed"
    },
    "tags": []
   },
   "outputs": [
    {
     "data": {
      "text/plain": [
       "array(['PG-13', 'TV-MA', 'PG', 'TV-14', 'TV-PG', 'TV-Y', 'TV-Y7', 'R',\n",
       "       'TV-G', 'G', 'NC-17', '74 min', '84 min', '66 min', 'NR', nan,\n",
       "       'TV-Y7-FV', 'UR'], dtype=object)"
      ]
     },
     "execution_count": 10,
     "metadata": {},
     "output_type": "execute_result"
    }
   ],
   "source": [
    "df.head()\n",
    "df['rating'].unique()          # its shows all unique value in rating column"
   ]
  },
  {
   "cell_type": "code",
   "execution_count": 11,
   "id": "959bf173",
   "metadata": {
    "execution": {
     "iopub.execute_input": "2023-03-09T22:06:18.867215Z",
     "iopub.status.busy": "2023-03-09T22:06:18.866872Z",
     "iopub.status.idle": "2023-03-09T22:06:18.881200Z",
     "shell.execute_reply": "2023-03-09T22:06:18.879758Z"
    },
    "papermill": {
     "duration": 0.028282,
     "end_time": "2023-03-09T22:06:18.883289",
     "exception": false,
     "start_time": "2023-03-09T22:06:18.855007",
     "status": "completed"
    },
    "tags": []
   },
   "outputs": [
    {
     "data": {
      "text/html": [
       "<div>\n",
       "<style scoped>\n",
       "    .dataframe tbody tr th:only-of-type {\n",
       "        vertical-align: middle;\n",
       "    }\n",
       "\n",
       "    .dataframe tbody tr th {\n",
       "        vertical-align: top;\n",
       "    }\n",
       "\n",
       "    .dataframe thead th {\n",
       "        text-align: right;\n",
       "    }\n",
       "</style>\n",
       "<table border=\"1\" class=\"dataframe\">\n",
       "  <thead>\n",
       "    <tr style=\"text-align: right;\">\n",
       "      <th></th>\n",
       "      <th>show_id</th>\n",
       "      <th>type</th>\n",
       "      <th>title</th>\n",
       "      <th>director</th>\n",
       "      <th>cast</th>\n",
       "      <th>country</th>\n",
       "      <th>date_added</th>\n",
       "      <th>release_year</th>\n",
       "      <th>rating</th>\n",
       "      <th>duration</th>\n",
       "      <th>listed_in</th>\n",
       "      <th>description</th>\n",
       "    </tr>\n",
       "  </thead>\n",
       "  <tbody>\n",
       "    <tr>\n",
       "      <th>0</th>\n",
       "      <td>s1</td>\n",
       "      <td>Movie</td>\n",
       "      <td>Dick Johnson Is Dead</td>\n",
       "      <td>Kirsten Johnson</td>\n",
       "      <td>NaN</td>\n",
       "      <td>United States</td>\n",
       "      <td>2021-09-25</td>\n",
       "      <td>2020</td>\n",
       "      <td>PG-13</td>\n",
       "      <td>90 min</td>\n",
       "      <td>Documentaries</td>\n",
       "      <td>As her father nears the end of his life, filmm...</td>\n",
       "    </tr>\n",
       "    <tr>\n",
       "      <th>1</th>\n",
       "      <td>s2</td>\n",
       "      <td>TV Show</td>\n",
       "      <td>Blood &amp; Water</td>\n",
       "      <td>NaN</td>\n",
       "      <td>Ama Qamata, Khosi Ngema, Gail Mabalane, Thaban...</td>\n",
       "      <td>South Africa</td>\n",
       "      <td>2021-09-24</td>\n",
       "      <td>2021</td>\n",
       "      <td>TV-MA</td>\n",
       "      <td>2 Seasons</td>\n",
       "      <td>International TV Shows, TV Dramas, TV Mysteries</td>\n",
       "      <td>After crossing paths at a party, a Cape Town t...</td>\n",
       "    </tr>\n",
       "  </tbody>\n",
       "</table>\n",
       "</div>"
      ],
      "text/plain": [
       "  show_id     type                 title         director  \\\n",
       "0      s1    Movie  Dick Johnson Is Dead  Kirsten Johnson   \n",
       "1      s2  TV Show         Blood & Water              NaN   \n",
       "\n",
       "                                                cast        country  \\\n",
       "0                                                NaN  United States   \n",
       "1  Ama Qamata, Khosi Ngema, Gail Mabalane, Thaban...   South Africa   \n",
       "\n",
       "  date_added  release_year rating   duration  \\\n",
       "0 2021-09-25          2020  PG-13     90 min   \n",
       "1 2021-09-24          2021  TV-MA  2 Seasons   \n",
       "\n",
       "                                         listed_in  \\\n",
       "0                                    Documentaries   \n",
       "1  International TV Shows, TV Dramas, TV Mysteries   \n",
       "\n",
       "                                         description  \n",
       "0  As her father nears the end of his life, filmm...  \n",
       "1  After crossing paths at a party, a Cape Town t...  "
      ]
     },
     "execution_count": 11,
     "metadata": {},
     "output_type": "execute_result"
    }
   ],
   "source": [
    "\n",
    "df.head(2)"
   ]
  },
  {
   "cell_type": "markdown",
   "id": "ad2587e5",
   "metadata": {
    "papermill": {
     "duration": 0.010281,
     "end_time": "2023-03-09T22:06:18.904278",
     "exception": false,
     "start_time": "2023-03-09T22:06:18.893997",
     "status": "completed"
    },
    "tags": []
   },
   "source": [
    "missing value in duration column"
   ]
  },
  {
   "cell_type": "markdown",
   "id": "33eec633",
   "metadata": {
    "papermill": {
     "duration": 0.010366,
     "end_time": "2023-03-09T22:06:18.925238",
     "exception": false,
     "start_time": "2023-03-09T22:06:18.914872",
     "status": "completed"
    },
    "tags": []
   },
   "source": [
    "# Handaling missing valve"
   ]
  },
  {
   "cell_type": "markdown",
   "id": "b09c9832",
   "metadata": {
    "papermill": {
     "duration": 0.010448,
     "end_time": "2023-03-09T22:06:18.946285",
     "exception": false,
     "start_time": "2023-03-09T22:06:18.935837",
     "status": "completed"
    },
    "tags": []
   },
   "source": [
    " Rating, cast, country,director have the null filled with 'Unavailable'"
   ]
  },
  {
   "cell_type": "code",
   "execution_count": 12,
   "id": "fb40b44a",
   "metadata": {
    "execution": {
     "iopub.execute_input": "2023-03-09T22:06:18.969423Z",
     "iopub.status.busy": "2023-03-09T22:06:18.969030Z",
     "iopub.status.idle": "2023-03-09T22:06:18.986497Z",
     "shell.execute_reply": "2023-03-09T22:06:18.985410Z"
    },
    "papermill": {
     "duration": 0.03173,
     "end_time": "2023-03-09T22:06:18.988590",
     "exception": false,
     "start_time": "2023-03-09T22:06:18.956860",
     "status": "completed"
    },
    "tags": []
   },
   "outputs": [
    {
     "data": {
      "text/plain": [
       "show_id          0\n",
       "type             0\n",
       "title            0\n",
       "director         0\n",
       "cast             0\n",
       "country          0\n",
       "date_added      10\n",
       "release_year     0\n",
       "rating           0\n",
       "duration         3\n",
       "listed_in        0\n",
       "description      0\n",
       "dtype: int64"
      ]
     },
     "execution_count": 12,
     "metadata": {},
     "output_type": "execute_result"
    }
   ],
   "source": [
    "df.fillna({'rating': 'unavailable','cast':'unavailable','country':'unavailable','director':'unavailable'},inplace = True)\n",
    "df.isnull().sum()"
   ]
  },
  {
   "cell_type": "markdown",
   "id": "c59e4e4a",
   "metadata": {
    "papermill": {
     "duration": 0.010815,
     "end_time": "2023-03-09T22:06:19.011107",
     "exception": false,
     "start_time": "2023-03-09T22:06:19.000292",
     "status": "completed"
    },
    "tags": []
   },
   "source": [
    "for nulls in data_added missing data_added is to be subsittuted in with the most recent data from data_added.this is because netflix has the tendancy to add more content over time // other vaible options would be finding actual dates and in putting them manually or dropping the data from result since the amount of missing data is rather small"
   ]
  },
  {
   "cell_type": "code",
   "execution_count": 13,
   "id": "21258d97",
   "metadata": {
    "execution": {
     "iopub.execute_input": "2023-03-09T22:06:19.035105Z",
     "iopub.status.busy": "2023-03-09T22:06:19.034732Z",
     "iopub.status.idle": "2023-03-09T22:06:19.054153Z",
     "shell.execute_reply": "2023-03-09T22:06:19.053026Z"
    },
    "papermill": {
     "duration": 0.034017,
     "end_time": "2023-03-09T22:06:19.056239",
     "exception": false,
     "start_time": "2023-03-09T22:06:19.022222",
     "status": "completed"
    },
    "tags": []
   },
   "outputs": [
    {
     "data": {
      "text/html": [
       "<div>\n",
       "<style scoped>\n",
       "    .dataframe tbody tr th:only-of-type {\n",
       "        vertical-align: middle;\n",
       "    }\n",
       "\n",
       "    .dataframe tbody tr th {\n",
       "        vertical-align: top;\n",
       "    }\n",
       "\n",
       "    .dataframe thead th {\n",
       "        text-align: right;\n",
       "    }\n",
       "</style>\n",
       "<table border=\"1\" class=\"dataframe\">\n",
       "  <thead>\n",
       "    <tr style=\"text-align: right;\">\n",
       "      <th></th>\n",
       "      <th>show_id</th>\n",
       "      <th>type</th>\n",
       "      <th>title</th>\n",
       "      <th>director</th>\n",
       "      <th>cast</th>\n",
       "      <th>country</th>\n",
       "      <th>date_added</th>\n",
       "      <th>release_year</th>\n",
       "      <th>rating</th>\n",
       "      <th>duration</th>\n",
       "      <th>listed_in</th>\n",
       "      <th>description</th>\n",
       "    </tr>\n",
       "  </thead>\n",
       "  <tbody>\n",
       "    <tr>\n",
       "      <th>6066</th>\n",
       "      <td>s6067</td>\n",
       "      <td>TV Show</td>\n",
       "      <td>A Young Doctor's Notebook and Other Stories</td>\n",
       "      <td>unavailable</td>\n",
       "      <td>Daniel Radcliffe, Jon Hamm, Adam Godley, Chris...</td>\n",
       "      <td>United Kingdom</td>\n",
       "      <td>NaT</td>\n",
       "      <td>2013</td>\n",
       "      <td>TV-MA</td>\n",
       "      <td>2 Seasons</td>\n",
       "      <td>British TV Shows, TV Comedies, TV Dramas</td>\n",
       "      <td>Set during the Russian Revolution, this comic ...</td>\n",
       "    </tr>\n",
       "    <tr>\n",
       "      <th>6174</th>\n",
       "      <td>s6175</td>\n",
       "      <td>TV Show</td>\n",
       "      <td>Anthony Bourdain: Parts Unknown</td>\n",
       "      <td>unavailable</td>\n",
       "      <td>Anthony Bourdain</td>\n",
       "      <td>United States</td>\n",
       "      <td>NaT</td>\n",
       "      <td>2018</td>\n",
       "      <td>TV-PG</td>\n",
       "      <td>5 Seasons</td>\n",
       "      <td>Docuseries</td>\n",
       "      <td>This CNN original series has chef Anthony Bour...</td>\n",
       "    </tr>\n",
       "    <tr>\n",
       "      <th>6795</th>\n",
       "      <td>s6796</td>\n",
       "      <td>TV Show</td>\n",
       "      <td>Frasier</td>\n",
       "      <td>unavailable</td>\n",
       "      <td>Kelsey Grammer, Jane Leeves, David Hyde Pierce...</td>\n",
       "      <td>United States</td>\n",
       "      <td>NaT</td>\n",
       "      <td>2003</td>\n",
       "      <td>TV-PG</td>\n",
       "      <td>11 Seasons</td>\n",
       "      <td>Classic &amp; Cult TV, TV Comedies</td>\n",
       "      <td>Frasier Crane is a snooty but lovable Seattle ...</td>\n",
       "    </tr>\n",
       "    <tr>\n",
       "      <th>6806</th>\n",
       "      <td>s6807</td>\n",
       "      <td>TV Show</td>\n",
       "      <td>Friends</td>\n",
       "      <td>unavailable</td>\n",
       "      <td>Jennifer Aniston, Courteney Cox, Lisa Kudrow, ...</td>\n",
       "      <td>United States</td>\n",
       "      <td>NaT</td>\n",
       "      <td>2003</td>\n",
       "      <td>TV-14</td>\n",
       "      <td>10 Seasons</td>\n",
       "      <td>Classic &amp; Cult TV, TV Comedies</td>\n",
       "      <td>This hit sitcom follows the merry misadventure...</td>\n",
       "    </tr>\n",
       "    <tr>\n",
       "      <th>6901</th>\n",
       "      <td>s6902</td>\n",
       "      <td>TV Show</td>\n",
       "      <td>Gunslinger Girl</td>\n",
       "      <td>unavailable</td>\n",
       "      <td>Yuuka Nanri, Kanako Mitsuhashi, Eri Sendai, Am...</td>\n",
       "      <td>Japan</td>\n",
       "      <td>NaT</td>\n",
       "      <td>2008</td>\n",
       "      <td>TV-14</td>\n",
       "      <td>2 Seasons</td>\n",
       "      <td>Anime Series, Crime TV Shows</td>\n",
       "      <td>On the surface, the Social Welfare Agency appe...</td>\n",
       "    </tr>\n",
       "    <tr>\n",
       "      <th>7196</th>\n",
       "      <td>s7197</td>\n",
       "      <td>TV Show</td>\n",
       "      <td>Kikoriki</td>\n",
       "      <td>unavailable</td>\n",
       "      <td>Igor Dmitriev</td>\n",
       "      <td>unavailable</td>\n",
       "      <td>NaT</td>\n",
       "      <td>2010</td>\n",
       "      <td>TV-Y</td>\n",
       "      <td>2 Seasons</td>\n",
       "      <td>Kids' TV</td>\n",
       "      <td>A wacky rabbit and his gang of animal pals hav...</td>\n",
       "    </tr>\n",
       "    <tr>\n",
       "      <th>7254</th>\n",
       "      <td>s7255</td>\n",
       "      <td>TV Show</td>\n",
       "      <td>La Familia P. Luche</td>\n",
       "      <td>unavailable</td>\n",
       "      <td>Eugenio Derbez, Consuelo Duval, Luis Manuel Áv...</td>\n",
       "      <td>United States</td>\n",
       "      <td>NaT</td>\n",
       "      <td>2012</td>\n",
       "      <td>TV-14</td>\n",
       "      <td>3 Seasons</td>\n",
       "      <td>International TV Shows, Spanish-Language TV Sh...</td>\n",
       "      <td>This irreverent sitcom featues Ludovico, Feder...</td>\n",
       "    </tr>\n",
       "    <tr>\n",
       "      <th>7406</th>\n",
       "      <td>s7407</td>\n",
       "      <td>TV Show</td>\n",
       "      <td>Maron</td>\n",
       "      <td>unavailable</td>\n",
       "      <td>Marc Maron, Judd Hirsch, Josh Brener, Nora Zeh...</td>\n",
       "      <td>United States</td>\n",
       "      <td>NaT</td>\n",
       "      <td>2016</td>\n",
       "      <td>TV-MA</td>\n",
       "      <td>4 Seasons</td>\n",
       "      <td>TV Comedies</td>\n",
       "      <td>Marc Maron stars as Marc Maron, who interviews...</td>\n",
       "    </tr>\n",
       "    <tr>\n",
       "      <th>7847</th>\n",
       "      <td>s7848</td>\n",
       "      <td>TV Show</td>\n",
       "      <td>Red vs. Blue</td>\n",
       "      <td>unavailable</td>\n",
       "      <td>Burnie Burns, Jason Saldaña, Gustavo Sorola, G...</td>\n",
       "      <td>United States</td>\n",
       "      <td>NaT</td>\n",
       "      <td>2015</td>\n",
       "      <td>NR</td>\n",
       "      <td>13 Seasons</td>\n",
       "      <td>TV Action &amp; Adventure, TV Comedies, TV Sci-Fi ...</td>\n",
       "      <td>This parody of first-person shooter games, mil...</td>\n",
       "    </tr>\n",
       "    <tr>\n",
       "      <th>8182</th>\n",
       "      <td>s8183</td>\n",
       "      <td>TV Show</td>\n",
       "      <td>The Adventures of Figaro Pho</td>\n",
       "      <td>unavailable</td>\n",
       "      <td>Luke Jurevicius, Craig Behenna, Charlotte Haml...</td>\n",
       "      <td>Australia</td>\n",
       "      <td>NaT</td>\n",
       "      <td>2015</td>\n",
       "      <td>TV-Y7</td>\n",
       "      <td>2 Seasons</td>\n",
       "      <td>Kids' TV, TV Comedies</td>\n",
       "      <td>Imagine your worst fears, then multiply them: ...</td>\n",
       "    </tr>\n",
       "  </tbody>\n",
       "</table>\n",
       "</div>"
      ],
      "text/plain": [
       "     show_id     type                                        title  \\\n",
       "6066   s6067  TV Show  A Young Doctor's Notebook and Other Stories   \n",
       "6174   s6175  TV Show              Anthony Bourdain: Parts Unknown   \n",
       "6795   s6796  TV Show                                      Frasier   \n",
       "6806   s6807  TV Show                                      Friends   \n",
       "6901   s6902  TV Show                              Gunslinger Girl   \n",
       "7196   s7197  TV Show                                     Kikoriki   \n",
       "7254   s7255  TV Show                          La Familia P. Luche   \n",
       "7406   s7407  TV Show                                        Maron   \n",
       "7847   s7848  TV Show                                 Red vs. Blue   \n",
       "8182   s8183  TV Show                 The Adventures of Figaro Pho   \n",
       "\n",
       "         director                                               cast  \\\n",
       "6066  unavailable  Daniel Radcliffe, Jon Hamm, Adam Godley, Chris...   \n",
       "6174  unavailable                                   Anthony Bourdain   \n",
       "6795  unavailable  Kelsey Grammer, Jane Leeves, David Hyde Pierce...   \n",
       "6806  unavailable  Jennifer Aniston, Courteney Cox, Lisa Kudrow, ...   \n",
       "6901  unavailable  Yuuka Nanri, Kanako Mitsuhashi, Eri Sendai, Am...   \n",
       "7196  unavailable                                      Igor Dmitriev   \n",
       "7254  unavailable  Eugenio Derbez, Consuelo Duval, Luis Manuel Áv...   \n",
       "7406  unavailable  Marc Maron, Judd Hirsch, Josh Brener, Nora Zeh...   \n",
       "7847  unavailable  Burnie Burns, Jason Saldaña, Gustavo Sorola, G...   \n",
       "8182  unavailable  Luke Jurevicius, Craig Behenna, Charlotte Haml...   \n",
       "\n",
       "             country date_added  release_year rating    duration  \\\n",
       "6066  United Kingdom        NaT          2013  TV-MA   2 Seasons   \n",
       "6174   United States        NaT          2018  TV-PG   5 Seasons   \n",
       "6795   United States        NaT          2003  TV-PG  11 Seasons   \n",
       "6806   United States        NaT          2003  TV-14  10 Seasons   \n",
       "6901           Japan        NaT          2008  TV-14   2 Seasons   \n",
       "7196     unavailable        NaT          2010   TV-Y   2 Seasons   \n",
       "7254   United States        NaT          2012  TV-14   3 Seasons   \n",
       "7406   United States        NaT          2016  TV-MA   4 Seasons   \n",
       "7847   United States        NaT          2015     NR  13 Seasons   \n",
       "8182       Australia        NaT          2015  TV-Y7   2 Seasons   \n",
       "\n",
       "                                              listed_in  \\\n",
       "6066           British TV Shows, TV Comedies, TV Dramas   \n",
       "6174                                         Docuseries   \n",
       "6795                     Classic & Cult TV, TV Comedies   \n",
       "6806                     Classic & Cult TV, TV Comedies   \n",
       "6901                       Anime Series, Crime TV Shows   \n",
       "7196                                           Kids' TV   \n",
       "7254  International TV Shows, Spanish-Language TV Sh...   \n",
       "7406                                        TV Comedies   \n",
       "7847  TV Action & Adventure, TV Comedies, TV Sci-Fi ...   \n",
       "8182                              Kids' TV, TV Comedies   \n",
       "\n",
       "                                            description  \n",
       "6066  Set during the Russian Revolution, this comic ...  \n",
       "6174  This CNN original series has chef Anthony Bour...  \n",
       "6795  Frasier Crane is a snooty but lovable Seattle ...  \n",
       "6806  This hit sitcom follows the merry misadventure...  \n",
       "6901  On the surface, the Social Welfare Agency appe...  \n",
       "7196  A wacky rabbit and his gang of animal pals hav...  \n",
       "7254  This irreverent sitcom featues Ludovico, Feder...  \n",
       "7406  Marc Maron stars as Marc Maron, who interviews...  \n",
       "7847  This parody of first-person shooter games, mil...  \n",
       "8182  Imagine your worst fears, then multiply them: ...  "
      ]
     },
     "execution_count": 13,
     "metadata": {},
     "output_type": "execute_result"
    }
   ],
   "source": [
    "df[(df['date_added'].isnull())]"
   ]
  },
  {
   "cell_type": "code",
   "execution_count": 14,
   "id": "6ec5fc43",
   "metadata": {
    "execution": {
     "iopub.execute_input": "2023-03-09T22:06:19.081064Z",
     "iopub.status.busy": "2023-03-09T22:06:19.080706Z",
     "iopub.status.idle": "2023-03-09T22:06:19.086734Z",
     "shell.execute_reply": "2023-03-09T22:06:19.085374Z"
    },
    "papermill": {
     "duration": 0.021411,
     "end_time": "2023-03-09T22:06:19.089245",
     "exception": false,
     "start_time": "2023-03-09T22:06:19.067834",
     "status": "completed"
    },
    "tags": []
   },
   "outputs": [],
   "source": [
    "most_recent_entry_date = df['date_added'].max()\n",
    "df.fillna({'date_added': most_recent_entry_date },inplace = True)\n",
    "\n"
   ]
  },
  {
   "cell_type": "code",
   "execution_count": 15,
   "id": "adac627c",
   "metadata": {
    "execution": {
     "iopub.execute_input": "2023-03-09T22:06:19.113600Z",
     "iopub.status.busy": "2023-03-09T22:06:19.113298Z",
     "iopub.status.idle": "2023-03-09T22:06:19.121156Z",
     "shell.execute_reply": "2023-03-09T22:06:19.119287Z"
    },
    "papermill": {
     "duration": 0.022847,
     "end_time": "2023-03-09T22:06:19.123630",
     "exception": false,
     "start_time": "2023-03-09T22:06:19.100783",
     "status": "completed"
    },
    "tags": []
   },
   "outputs": [
    {
     "data": {
      "text/plain": [
       "0"
      ]
     },
     "execution_count": 15,
     "metadata": {},
     "output_type": "execute_result"
    }
   ],
   "source": [
    "df['date_added'].isnull().sum()"
   ]
  },
  {
   "cell_type": "markdown",
   "id": "66db2fbf",
   "metadata": {
    "papermill": {
     "duration": 0.011902,
     "end_time": "2023-03-09T22:06:19.147272",
     "exception": false,
     "start_time": "2023-03-09T22:06:19.135370",
     "status": "completed"
    },
    "tags": []
   },
   "source": [
    "now we see in the data_added column successfully filled with most_recent_date"
   ]
  },
  {
   "cell_type": "code",
   "execution_count": 16,
   "id": "0ffbb97a",
   "metadata": {
    "execution": {
     "iopub.execute_input": "2023-03-09T22:06:19.173756Z",
     "iopub.status.busy": "2023-03-09T22:06:19.173128Z",
     "iopub.status.idle": "2023-03-09T22:06:19.189635Z",
     "shell.execute_reply": "2023-03-09T22:06:19.188354Z"
    },
    "papermill": {
     "duration": 0.032587,
     "end_time": "2023-03-09T22:06:19.192462",
     "exception": false,
     "start_time": "2023-03-09T22:06:19.159875",
     "status": "completed"
    },
    "tags": []
   },
   "outputs": [
    {
     "data": {
      "text/html": [
       "<div>\n",
       "<style scoped>\n",
       "    .dataframe tbody tr th:only-of-type {\n",
       "        vertical-align: middle;\n",
       "    }\n",
       "\n",
       "    .dataframe tbody tr th {\n",
       "        vertical-align: top;\n",
       "    }\n",
       "\n",
       "    .dataframe thead th {\n",
       "        text-align: right;\n",
       "    }\n",
       "</style>\n",
       "<table border=\"1\" class=\"dataframe\">\n",
       "  <thead>\n",
       "    <tr style=\"text-align: right;\">\n",
       "      <th></th>\n",
       "      <th>show_id</th>\n",
       "      <th>type</th>\n",
       "      <th>title</th>\n",
       "      <th>director</th>\n",
       "      <th>cast</th>\n",
       "      <th>country</th>\n",
       "      <th>date_added</th>\n",
       "      <th>release_year</th>\n",
       "      <th>rating</th>\n",
       "      <th>duration</th>\n",
       "      <th>listed_in</th>\n",
       "      <th>description</th>\n",
       "    </tr>\n",
       "  </thead>\n",
       "  <tbody>\n",
       "    <tr>\n",
       "      <th>5541</th>\n",
       "      <td>s5542</td>\n",
       "      <td>Movie</td>\n",
       "      <td>Louis C.K. 2017</td>\n",
       "      <td>Louis C.K.</td>\n",
       "      <td>Louis C.K.</td>\n",
       "      <td>United States</td>\n",
       "      <td>2017-04-04</td>\n",
       "      <td>2017</td>\n",
       "      <td>74 min</td>\n",
       "      <td>NaN</td>\n",
       "      <td>Movies</td>\n",
       "      <td>Louis C.K. muses on religion, eternal love, gi...</td>\n",
       "    </tr>\n",
       "    <tr>\n",
       "      <th>5794</th>\n",
       "      <td>s5795</td>\n",
       "      <td>Movie</td>\n",
       "      <td>Louis C.K.: Hilarious</td>\n",
       "      <td>Louis C.K.</td>\n",
       "      <td>Louis C.K.</td>\n",
       "      <td>United States</td>\n",
       "      <td>2016-09-16</td>\n",
       "      <td>2010</td>\n",
       "      <td>84 min</td>\n",
       "      <td>NaN</td>\n",
       "      <td>Movies</td>\n",
       "      <td>Emmy-winning comedy writer Louis C.K. brings h...</td>\n",
       "    </tr>\n",
       "    <tr>\n",
       "      <th>5813</th>\n",
       "      <td>s5814</td>\n",
       "      <td>Movie</td>\n",
       "      <td>Louis C.K.: Live at the Comedy Store</td>\n",
       "      <td>Louis C.K.</td>\n",
       "      <td>Louis C.K.</td>\n",
       "      <td>United States</td>\n",
       "      <td>2016-08-15</td>\n",
       "      <td>2015</td>\n",
       "      <td>66 min</td>\n",
       "      <td>NaN</td>\n",
       "      <td>Movies</td>\n",
       "      <td>The comic puts his trademark hilarious/thought...</td>\n",
       "    </tr>\n",
       "  </tbody>\n",
       "</table>\n",
       "</div>"
      ],
      "text/plain": [
       "     show_id   type                                 title    director  \\\n",
       "5541   s5542  Movie                       Louis C.K. 2017  Louis C.K.   \n",
       "5794   s5795  Movie                 Louis C.K.: Hilarious  Louis C.K.   \n",
       "5813   s5814  Movie  Louis C.K.: Live at the Comedy Store  Louis C.K.   \n",
       "\n",
       "            cast        country date_added  release_year  rating duration  \\\n",
       "5541  Louis C.K.  United States 2017-04-04          2017  74 min      NaN   \n",
       "5794  Louis C.K.  United States 2016-09-16          2010  84 min      NaN   \n",
       "5813  Louis C.K.  United States 2016-08-15          2015  66 min      NaN   \n",
       "\n",
       "     listed_in                                        description  \n",
       "5541    Movies  Louis C.K. muses on religion, eternal love, gi...  \n",
       "5794    Movies  Emmy-winning comedy writer Louis C.K. brings h...  \n",
       "5813    Movies  The comic puts his trademark hilarious/thought...  "
      ]
     },
     "execution_count": 16,
     "metadata": {},
     "output_type": "execute_result"
    }
   ],
   "source": [
    "df.loc[df['duration'].isnull()]"
   ]
  },
  {
   "cell_type": "code",
   "execution_count": 17,
   "id": "f3611a28",
   "metadata": {
    "execution": {
     "iopub.execute_input": "2023-03-09T22:06:19.217748Z",
     "iopub.status.busy": "2023-03-09T22:06:19.217374Z",
     "iopub.status.idle": "2023-03-09T22:06:19.222467Z",
     "shell.execute_reply": "2023-03-09T22:06:19.220773Z"
    },
    "papermill": {
     "duration": 0.019913,
     "end_time": "2023-03-09T22:06:19.224364",
     "exception": false,
     "start_time": "2023-03-09T22:06:19.204451",
     "status": "completed"
    },
    "tags": []
   },
   "outputs": [],
   "source": [
    "## check to make sure there is no othere content with the same director to avoid accidental overwriting"
   ]
  },
  {
   "cell_type": "code",
   "execution_count": 18,
   "id": "1ff6336a",
   "metadata": {
    "execution": {
     "iopub.execute_input": "2023-03-09T22:06:19.248811Z",
     "iopub.status.busy": "2023-03-09T22:06:19.248483Z",
     "iopub.status.idle": "2023-03-09T22:06:19.265079Z",
     "shell.execute_reply": "2023-03-09T22:06:19.264080Z"
    },
    "papermill": {
     "duration": 0.030968,
     "end_time": "2023-03-09T22:06:19.266869",
     "exception": false,
     "start_time": "2023-03-09T22:06:19.235901",
     "status": "completed"
    },
    "tags": []
   },
   "outputs": [
    {
     "data": {
      "text/html": [
       "<div>\n",
       "<style scoped>\n",
       "    .dataframe tbody tr th:only-of-type {\n",
       "        vertical-align: middle;\n",
       "    }\n",
       "\n",
       "    .dataframe tbody tr th {\n",
       "        vertical-align: top;\n",
       "    }\n",
       "\n",
       "    .dataframe thead th {\n",
       "        text-align: right;\n",
       "    }\n",
       "</style>\n",
       "<table border=\"1\" class=\"dataframe\">\n",
       "  <thead>\n",
       "    <tr style=\"text-align: right;\">\n",
       "      <th></th>\n",
       "      <th>show_id</th>\n",
       "      <th>type</th>\n",
       "      <th>title</th>\n",
       "      <th>director</th>\n",
       "      <th>cast</th>\n",
       "      <th>country</th>\n",
       "      <th>date_added</th>\n",
       "      <th>release_year</th>\n",
       "      <th>rating</th>\n",
       "      <th>duration</th>\n",
       "      <th>listed_in</th>\n",
       "      <th>description</th>\n",
       "    </tr>\n",
       "  </thead>\n",
       "  <tbody>\n",
       "    <tr>\n",
       "      <th>5541</th>\n",
       "      <td>s5542</td>\n",
       "      <td>Movie</td>\n",
       "      <td>Louis C.K. 2017</td>\n",
       "      <td>Louis C.K.</td>\n",
       "      <td>Louis C.K.</td>\n",
       "      <td>United States</td>\n",
       "      <td>2017-04-04</td>\n",
       "      <td>2017</td>\n",
       "      <td>74 min</td>\n",
       "      <td>NaN</td>\n",
       "      <td>Movies</td>\n",
       "      <td>Louis C.K. muses on religion, eternal love, gi...</td>\n",
       "    </tr>\n",
       "    <tr>\n",
       "      <th>5794</th>\n",
       "      <td>s5795</td>\n",
       "      <td>Movie</td>\n",
       "      <td>Louis C.K.: Hilarious</td>\n",
       "      <td>Louis C.K.</td>\n",
       "      <td>Louis C.K.</td>\n",
       "      <td>United States</td>\n",
       "      <td>2016-09-16</td>\n",
       "      <td>2010</td>\n",
       "      <td>84 min</td>\n",
       "      <td>NaN</td>\n",
       "      <td>Movies</td>\n",
       "      <td>Emmy-winning comedy writer Louis C.K. brings h...</td>\n",
       "    </tr>\n",
       "    <tr>\n",
       "      <th>5813</th>\n",
       "      <td>s5814</td>\n",
       "      <td>Movie</td>\n",
       "      <td>Louis C.K.: Live at the Comedy Store</td>\n",
       "      <td>Louis C.K.</td>\n",
       "      <td>Louis C.K.</td>\n",
       "      <td>United States</td>\n",
       "      <td>2016-08-15</td>\n",
       "      <td>2015</td>\n",
       "      <td>66 min</td>\n",
       "      <td>NaN</td>\n",
       "      <td>Movies</td>\n",
       "      <td>The comic puts his trademark hilarious/thought...</td>\n",
       "    </tr>\n",
       "  </tbody>\n",
       "</table>\n",
       "</div>"
      ],
      "text/plain": [
       "     show_id   type                                 title    director  \\\n",
       "5541   s5542  Movie                       Louis C.K. 2017  Louis C.K.   \n",
       "5794   s5795  Movie                 Louis C.K.: Hilarious  Louis C.K.   \n",
       "5813   s5814  Movie  Louis C.K.: Live at the Comedy Store  Louis C.K.   \n",
       "\n",
       "            cast        country date_added  release_year  rating duration  \\\n",
       "5541  Louis C.K.  United States 2017-04-04          2017  74 min      NaN   \n",
       "5794  Louis C.K.  United States 2016-09-16          2010  84 min      NaN   \n",
       "5813  Louis C.K.  United States 2016-08-15          2015  66 min      NaN   \n",
       "\n",
       "     listed_in                                        description  \n",
       "5541    Movies  Louis C.K. muses on religion, eternal love, gi...  \n",
       "5794    Movies  Emmy-winning comedy writer Louis C.K. brings h...  \n",
       "5813    Movies  The comic puts his trademark hilarious/thought...  "
      ]
     },
     "execution_count": 18,
     "metadata": {},
     "output_type": "execute_result"
    }
   ],
   "source": [
    "df[df.director == \"Louis C.K.\"].head()"
   ]
  },
  {
   "cell_type": "code",
   "execution_count": 19,
   "id": "c179410c",
   "metadata": {
    "execution": {
     "iopub.execute_input": "2023-03-09T22:06:19.301365Z",
     "iopub.status.busy": "2023-03-09T22:06:19.300962Z",
     "iopub.status.idle": "2023-03-09T22:06:19.312338Z",
     "shell.execute_reply": "2023-03-09T22:06:19.310395Z"
    },
    "papermill": {
     "duration": 0.033643,
     "end_time": "2023-03-09T22:06:19.317477",
     "exception": false,
     "start_time": "2023-03-09T22:06:19.283834",
     "status": "completed"
    },
    "tags": []
   },
   "outputs": [],
   "source": [
    "df.loc[df['director'] == 'Louis C.K.' , 'duration'] = df['rating'] ## loc helps us eaisly accessing the columns by name"
   ]
  },
  {
   "cell_type": "code",
   "execution_count": 20,
   "id": "3b3aa57d",
   "metadata": {
    "execution": {
     "iopub.execute_input": "2023-03-09T22:06:19.347204Z",
     "iopub.status.busy": "2023-03-09T22:06:19.346863Z",
     "iopub.status.idle": "2023-03-09T22:06:19.362824Z",
     "shell.execute_reply": "2023-03-09T22:06:19.361846Z"
    },
    "papermill": {
     "duration": 0.031815,
     "end_time": "2023-03-09T22:06:19.365105",
     "exception": false,
     "start_time": "2023-03-09T22:06:19.333290",
     "status": "completed"
    },
    "tags": []
   },
   "outputs": [
    {
     "data": {
      "text/html": [
       "<div>\n",
       "<style scoped>\n",
       "    .dataframe tbody tr th:only-of-type {\n",
       "        vertical-align: middle;\n",
       "    }\n",
       "\n",
       "    .dataframe tbody tr th {\n",
       "        vertical-align: top;\n",
       "    }\n",
       "\n",
       "    .dataframe thead th {\n",
       "        text-align: right;\n",
       "    }\n",
       "</style>\n",
       "<table border=\"1\" class=\"dataframe\">\n",
       "  <thead>\n",
       "    <tr style=\"text-align: right;\">\n",
       "      <th></th>\n",
       "      <th>show_id</th>\n",
       "      <th>type</th>\n",
       "      <th>title</th>\n",
       "      <th>director</th>\n",
       "      <th>cast</th>\n",
       "      <th>country</th>\n",
       "      <th>date_added</th>\n",
       "      <th>release_year</th>\n",
       "      <th>rating</th>\n",
       "      <th>duration</th>\n",
       "      <th>listed_in</th>\n",
       "      <th>description</th>\n",
       "    </tr>\n",
       "  </thead>\n",
       "  <tbody>\n",
       "    <tr>\n",
       "      <th>5541</th>\n",
       "      <td>s5542</td>\n",
       "      <td>Movie</td>\n",
       "      <td>Louis C.K. 2017</td>\n",
       "      <td>Louis C.K.</td>\n",
       "      <td>Louis C.K.</td>\n",
       "      <td>United States</td>\n",
       "      <td>2017-04-04</td>\n",
       "      <td>2017</td>\n",
       "      <td>74 min</td>\n",
       "      <td>74 min</td>\n",
       "      <td>Movies</td>\n",
       "      <td>Louis C.K. muses on religion, eternal love, gi...</td>\n",
       "    </tr>\n",
       "    <tr>\n",
       "      <th>5794</th>\n",
       "      <td>s5795</td>\n",
       "      <td>Movie</td>\n",
       "      <td>Louis C.K.: Hilarious</td>\n",
       "      <td>Louis C.K.</td>\n",
       "      <td>Louis C.K.</td>\n",
       "      <td>United States</td>\n",
       "      <td>2016-09-16</td>\n",
       "      <td>2010</td>\n",
       "      <td>84 min</td>\n",
       "      <td>84 min</td>\n",
       "      <td>Movies</td>\n",
       "      <td>Emmy-winning comedy writer Louis C.K. brings h...</td>\n",
       "    </tr>\n",
       "    <tr>\n",
       "      <th>5813</th>\n",
       "      <td>s5814</td>\n",
       "      <td>Movie</td>\n",
       "      <td>Louis C.K.: Live at the Comedy Store</td>\n",
       "      <td>Louis C.K.</td>\n",
       "      <td>Louis C.K.</td>\n",
       "      <td>United States</td>\n",
       "      <td>2016-08-15</td>\n",
       "      <td>2015</td>\n",
       "      <td>66 min</td>\n",
       "      <td>66 min</td>\n",
       "      <td>Movies</td>\n",
       "      <td>The comic puts his trademark hilarious/thought...</td>\n",
       "    </tr>\n",
       "  </tbody>\n",
       "</table>\n",
       "</div>"
      ],
      "text/plain": [
       "     show_id   type                                 title    director  \\\n",
       "5541   s5542  Movie                       Louis C.K. 2017  Louis C.K.   \n",
       "5794   s5795  Movie                 Louis C.K.: Hilarious  Louis C.K.   \n",
       "5813   s5814  Movie  Louis C.K.: Live at the Comedy Store  Louis C.K.   \n",
       "\n",
       "            cast        country date_added  release_year  rating duration  \\\n",
       "5541  Louis C.K.  United States 2017-04-04          2017  74 min   74 min   \n",
       "5794  Louis C.K.  United States 2016-09-16          2010  84 min   84 min   \n",
       "5813  Louis C.K.  United States 2016-08-15          2015  66 min   66 min   \n",
       "\n",
       "     listed_in                                        description  \n",
       "5541    Movies  Louis C.K. muses on religion, eternal love, gi...  \n",
       "5794    Movies  Emmy-winning comedy writer Louis C.K. brings h...  \n",
       "5813    Movies  The comic puts his trademark hilarious/thought...  "
      ]
     },
     "execution_count": 20,
     "metadata": {},
     "output_type": "execute_result"
    }
   ],
   "source": [
    "df[df.director == \"Louis C.K.\"].head()   ## successfully rating column add to duration column"
   ]
  },
  {
   "cell_type": "code",
   "execution_count": 21,
   "id": "3328e347",
   "metadata": {
    "execution": {
     "iopub.execute_input": "2023-03-09T22:06:19.390701Z",
     "iopub.status.busy": "2023-03-09T22:06:19.390362Z",
     "iopub.status.idle": "2023-03-09T22:06:19.408384Z",
     "shell.execute_reply": "2023-03-09T22:06:19.407331Z"
    },
    "papermill": {
     "duration": 0.033248,
     "end_time": "2023-03-09T22:06:19.410305",
     "exception": false,
     "start_time": "2023-03-09T22:06:19.377057",
     "status": "completed"
    },
    "tags": []
   },
   "outputs": [
    {
     "data": {
      "text/html": [
       "<div>\n",
       "<style scoped>\n",
       "    .dataframe tbody tr th:only-of-type {\n",
       "        vertical-align: middle;\n",
       "    }\n",
       "\n",
       "    .dataframe tbody tr th {\n",
       "        vertical-align: top;\n",
       "    }\n",
       "\n",
       "    .dataframe thead th {\n",
       "        text-align: right;\n",
       "    }\n",
       "</style>\n",
       "<table border=\"1\" class=\"dataframe\">\n",
       "  <thead>\n",
       "    <tr style=\"text-align: right;\">\n",
       "      <th></th>\n",
       "      <th>show_id</th>\n",
       "      <th>type</th>\n",
       "      <th>title</th>\n",
       "      <th>director</th>\n",
       "      <th>cast</th>\n",
       "      <th>country</th>\n",
       "      <th>date_added</th>\n",
       "      <th>release_year</th>\n",
       "      <th>rating</th>\n",
       "      <th>duration</th>\n",
       "      <th>listed_in</th>\n",
       "      <th>description</th>\n",
       "    </tr>\n",
       "  </thead>\n",
       "  <tbody>\n",
       "    <tr>\n",
       "      <th>5541</th>\n",
       "      <td>s5542</td>\n",
       "      <td>Movie</td>\n",
       "      <td>Louis C.K. 2017</td>\n",
       "      <td>Louis C.K.</td>\n",
       "      <td>Louis C.K.</td>\n",
       "      <td>United States</td>\n",
       "      <td>2017-04-04</td>\n",
       "      <td>2017</td>\n",
       "      <td>unavailable</td>\n",
       "      <td>74 min</td>\n",
       "      <td>Movies</td>\n",
       "      <td>Louis C.K. muses on religion, eternal love, gi...</td>\n",
       "    </tr>\n",
       "    <tr>\n",
       "      <th>5794</th>\n",
       "      <td>s5795</td>\n",
       "      <td>Movie</td>\n",
       "      <td>Louis C.K.: Hilarious</td>\n",
       "      <td>Louis C.K.</td>\n",
       "      <td>Louis C.K.</td>\n",
       "      <td>United States</td>\n",
       "      <td>2016-09-16</td>\n",
       "      <td>2010</td>\n",
       "      <td>unavailable</td>\n",
       "      <td>84 min</td>\n",
       "      <td>Movies</td>\n",
       "      <td>Emmy-winning comedy writer Louis C.K. brings h...</td>\n",
       "    </tr>\n",
       "    <tr>\n",
       "      <th>5813</th>\n",
       "      <td>s5814</td>\n",
       "      <td>Movie</td>\n",
       "      <td>Louis C.K.: Live at the Comedy Store</td>\n",
       "      <td>Louis C.K.</td>\n",
       "      <td>Louis C.K.</td>\n",
       "      <td>United States</td>\n",
       "      <td>2016-08-15</td>\n",
       "      <td>2015</td>\n",
       "      <td>unavailable</td>\n",
       "      <td>66 min</td>\n",
       "      <td>Movies</td>\n",
       "      <td>The comic puts his trademark hilarious/thought...</td>\n",
       "    </tr>\n",
       "  </tbody>\n",
       "</table>\n",
       "</div>"
      ],
      "text/plain": [
       "     show_id   type                                 title    director  \\\n",
       "5541   s5542  Movie                       Louis C.K. 2017  Louis C.K.   \n",
       "5794   s5795  Movie                 Louis C.K.: Hilarious  Louis C.K.   \n",
       "5813   s5814  Movie  Louis C.K.: Live at the Comedy Store  Louis C.K.   \n",
       "\n",
       "            cast        country date_added  release_year       rating  \\\n",
       "5541  Louis C.K.  United States 2017-04-04          2017  unavailable   \n",
       "5794  Louis C.K.  United States 2016-09-16          2010  unavailable   \n",
       "5813  Louis C.K.  United States 2016-08-15          2015  unavailable   \n",
       "\n",
       "     duration listed_in                                        description  \n",
       "5541   74 min    Movies  Louis C.K. muses on religion, eternal love, gi...  \n",
       "5794   84 min    Movies  Emmy-winning comedy writer Louis C.K. brings h...  \n",
       "5813   66 min    Movies  The comic puts his trademark hilarious/thought...  "
      ]
     },
     "execution_count": 21,
     "metadata": {},
     "output_type": "execute_result"
    }
   ],
   "source": [
    "df.loc[df['director'] ==  'Louis C.K.' , 'rating'] = 'unavailable'\n",
    "df[df.director == \"Louis C.K.\"].head() "
   ]
  },
  {
   "cell_type": "markdown",
   "id": "e3a786bb",
   "metadata": {
    "papermill": {
     "duration": 0.011816,
     "end_time": "2023-03-09T22:06:19.434362",
     "exception": false,
     "start_time": "2023-03-09T22:06:19.422546",
     "status": "completed"
    },
    "tags": []
   },
   "source": [
    "### **visualization**"
   ]
  },
  {
   "cell_type": "markdown",
   "id": "c741848c",
   "metadata": {
    "papermill": {
     "duration": 0.012185,
     "end_time": "2023-03-09T22:06:19.459732",
     "exception": false,
     "start_time": "2023-03-09T22:06:19.447547",
     "status": "completed"
    },
    "tags": []
   },
   "source": [
    "lets take a look at types of shows that has been watched on netflix"
   ]
  },
  {
   "cell_type": "code",
   "execution_count": 22,
   "id": "dffcbd08",
   "metadata": {
    "execution": {
     "iopub.execute_input": "2023-03-09T22:06:19.486170Z",
     "iopub.status.busy": "2023-03-09T22:06:19.485816Z",
     "iopub.status.idle": "2023-03-09T22:06:19.493848Z",
     "shell.execute_reply": "2023-03-09T22:06:19.492866Z"
    },
    "papermill": {
     "duration": 0.023377,
     "end_time": "2023-03-09T22:06:19.495536",
     "exception": false,
     "start_time": "2023-03-09T22:06:19.472159",
     "status": "completed"
    },
    "tags": []
   },
   "outputs": [
    {
     "data": {
      "text/plain": [
       "Movie      6131\n",
       "TV Show    2676\n",
       "Name: type, dtype: int64"
      ]
     },
     "execution_count": 22,
     "metadata": {},
     "output_type": "execute_result"
    }
   ],
   "source": [
    "df['type'].value_counts()"
   ]
  },
  {
   "cell_type": "code",
   "execution_count": 23,
   "id": "1b158828",
   "metadata": {
    "execution": {
     "iopub.execute_input": "2023-03-09T22:06:19.522228Z",
     "iopub.status.busy": "2023-03-09T22:06:19.521879Z",
     "iopub.status.idle": "2023-03-09T22:06:19.671371Z",
     "shell.execute_reply": "2023-03-09T22:06:19.670507Z"
    },
    "papermill": {
     "duration": 0.165054,
     "end_time": "2023-03-09T22:06:19.673452",
     "exception": false,
     "start_time": "2023-03-09T22:06:19.508398",
     "status": "completed"
    },
    "tags": []
   },
   "outputs": [
    {
     "data": {
      "image/png": "[encoded data removed]",
      "text/plain": [
       "<Figure size 640x480 with 1 Axes>"
      ]
     },
     "metadata": {},
     "output_type": "display_data"
    }
   ],
   "source": [
    "sns.countplot(x ='type' ,data = df ,saturation=.50,)\n",
    "plt.title(\"Count VS types of show\")\n",
    "plt.show()"
   ]
  },
  {
   "cell_type": "markdown",
   "id": "4e272b2d",
   "metadata": {
    "papermill": {
     "duration": 0.012308,
     "end_time": "2023-03-09T22:06:19.702241",
     "exception": false,
     "start_time": "2023-03-09T22:06:19.689933",
     "status": "completed"
    },
    "tags": []
   },
   "source": [
    "### on netfliex there are more no.of movies as campared TV shows"
   ]
  },
  {
   "cell_type": "markdown",
   "id": "5ee9b3b9",
   "metadata": {
    "papermill": {
     "duration": 0.012774,
     "end_time": "2023-03-09T22:06:19.728331",
     "exception": false,
     "start_time": "2023-03-09T22:06:19.715557",
     "status": "completed"
    },
    "tags": []
   },
   "source": []
  },
  {
   "cell_type": "markdown",
   "id": "4297efb1",
   "metadata": {
    "papermill": {
     "duration": 0.012188,
     "end_time": "2023-03-09T22:06:19.753348",
     "exception": false,
     "start_time": "2023-03-09T22:06:19.741160",
     "status": "completed"
    },
    "tags": []
   },
   "source": [
    "### Country Analysis"
   ]
  },
  {
   "cell_type": "code",
   "execution_count": 24,
   "id": "b27434ec",
   "metadata": {
    "execution": {
     "iopub.execute_input": "2023-03-09T22:06:19.780347Z",
     "iopub.status.busy": "2023-03-09T22:06:19.779930Z",
     "iopub.status.idle": "2023-03-09T22:06:19.788823Z",
     "shell.execute_reply": "2023-03-09T22:06:19.788198Z"
    },
    "papermill": {
     "duration": 0.024679,
     "end_time": "2023-03-09T22:06:19.790533",
     "exception": false,
     "start_time": "2023-03-09T22:06:19.765854",
     "status": "completed"
    },
    "tags": []
   },
   "outputs": [
    {
     "data": {
      "text/plain": [
       "United States                             2818\n",
       "India                                      972\n",
       "unavailable                                831\n",
       "United Kingdom                             419\n",
       "Japan                                      245\n",
       "                                          ... \n",
       "Romania, Bulgaria, Hungary                   1\n",
       "Uruguay, Guatemala                           1\n",
       "France, Senegal, Belgium                     1\n",
       "Mexico, United States, Spain, Colombia       1\n",
       "United Arab Emirates, Jordan                 1\n",
       "Name: country, Length: 749, dtype: int64"
      ]
     },
     "execution_count": 24,
     "metadata": {},
     "output_type": "execute_result"
    }
   ],
   "source": [
    "df['country'].value_counts()"
   ]
  },
  {
   "cell_type": "code",
   "execution_count": 25,
   "id": "ee2e6406",
   "metadata": {
    "execution": {
     "iopub.execute_input": "2023-03-09T22:06:19.819385Z",
     "iopub.status.busy": "2023-03-09T22:06:19.818549Z",
     "iopub.status.idle": "2023-03-09T22:06:20.032868Z",
     "shell.execute_reply": "2023-03-09T22:06:20.031908Z"
    },
    "papermill": {
     "duration": 0.230749,
     "end_time": "2023-03-09T22:06:20.035008",
     "exception": false,
     "start_time": "2023-03-09T22:06:19.804259",
     "status": "completed"
    },
    "tags": []
   },
   "outputs": [
    {
     "data": {
      "text/plain": [
       "<function matplotlib.pyplot.show(close=None, block=None)>"
      ]
     },
     "execution_count": 25,
     "metadata": {},
     "output_type": "execute_result"
    },
    {
     "data": {
      "image/png": "[encoded data removed]",
      "text/plain": [
       "<Figure size 1200x600 with 1 Axes>"
      ]
     },
     "metadata": {},
     "output_type": "display_data"
    }
   ],
   "source": [
    "plt.figure(figsize= (12,6))\n",
    "sns.countplot(y= 'country', order = df['country'].value_counts().index[:10],data = df)\n",
    "plt.title(\"Country wise content on netflix\")\n",
    "plt.show"
   ]
  },
  {
   "cell_type": "markdown",
   "id": "690554a0",
   "metadata": {
    "papermill": {
     "duration": 0.012457,
     "end_time": "2023-03-09T22:06:20.060723",
     "exception": false,
     "start_time": "2023-03-09T22:06:20.048266",
     "status": "completed"
    },
    "tags": []
   },
   "source": [
    "\n"
   ]
  },
  {
   "cell_type": "code",
   "execution_count": 26,
   "id": "8c1faea6",
   "metadata": {
    "execution": {
     "iopub.execute_input": "2023-03-09T22:06:20.090153Z",
     "iopub.status.busy": "2023-03-09T22:06:20.089708Z",
     "iopub.status.idle": "2023-03-09T22:06:20.098530Z",
     "shell.execute_reply": "2023-03-09T22:06:20.097742Z"
    },
    "papermill": {
     "duration": 0.025904,
     "end_time": "2023-03-09T22:06:20.100878",
     "exception": false,
     "start_time": "2023-03-09T22:06:20.074974",
     "status": "completed"
    },
    "tags": []
   },
   "outputs": [],
   "source": [
    "# now checking type of content base on country\n",
    "movies_countries = df[df['type'] == ('Movie')]\n",
    "TV_shows_countries = df[df['type'] ==(\"TV Show\")]\n"
   ]
  },
  {
   "cell_type": "code",
   "execution_count": 27,
   "id": "de04a135",
   "metadata": {
    "execution": {
     "iopub.execute_input": "2023-03-09T22:06:20.130769Z",
     "iopub.status.busy": "2023-03-09T22:06:20.129846Z",
     "iopub.status.idle": "2023-03-09T22:06:20.531761Z",
     "shell.execute_reply": "2023-03-09T22:06:20.530495Z"
    },
    "papermill": {
     "duration": 0.420276,
     "end_time": "2023-03-09T22:06:20.534601",
     "exception": false,
     "start_time": "2023-03-09T22:06:20.114325",
     "status": "completed"
    },
    "tags": []
   },
   "outputs": [
    {
     "data": {
      "image/png": "[encoded data removed]",
      "text/plain": [
       "<Figure size 1200x600 with 1 Axes>"
      ]
     },
     "metadata": {},
     "output_type": "display_data"
    },
    {
     "data": {
      "image/png": "[encoded data removed]",
      "text/plain": [
       "<Figure size 1200x600 with 1 Axes>"
      ]
     },
     "metadata": {},
     "output_type": "display_data"
    }
   ],
   "source": [
    "plt.figure(figsize= (12,6))\n",
    "sns.countplot(y= 'country', order = df['country'].value_counts().index[:10],data = movies_countries)\n",
    "plt.title(\"top 10 countries producing movies on netflix\")\n",
    "\n",
    "\n",
    "\n",
    "plt.figure(figsize= (12,6))\n",
    "sns.countplot(y = 'country',order = df['country'].value_counts().index[:10],data = TV_shows_countries)\n",
    "plt.title(\" top 10 countries producing TV_shows on netflix\")\n",
    "plt.show()"
   ]
  },
  {
   "cell_type": "code",
   "execution_count": 28,
   "id": "192a0d04",
   "metadata": {
    "execution": {
     "iopub.execute_input": "2023-03-09T22:06:20.564288Z",
     "iopub.status.busy": "2023-03-09T22:06:20.563920Z",
     "iopub.status.idle": "2023-03-09T22:06:20.572417Z",
     "shell.execute_reply": "2023-03-09T22:06:20.571055Z"
    },
    "papermill": {
     "duration": 0.025881,
     "end_time": "2023-03-09T22:06:20.574721",
     "exception": false,
     "start_time": "2023-03-09T22:06:20.548840",
     "status": "completed"
    },
    "tags": []
   },
   "outputs": [
    {
     "data": {
      "text/plain": [
       "array(['Movie', 'TV Show'], dtype=object)"
      ]
     },
     "execution_count": 28,
     "metadata": {},
     "output_type": "execute_result"
    }
   ],
   "source": [
    "df['type'].unique()"
   ]
  },
  {
   "cell_type": "code",
   "execution_count": 29,
   "id": "3851cabd",
   "metadata": {
    "execution": {
     "iopub.execute_input": "2023-03-09T22:06:20.605930Z",
     "iopub.status.busy": "2023-03-09T22:06:20.605382Z",
     "iopub.status.idle": "2023-03-09T22:06:20.613264Z",
     "shell.execute_reply": "2023-03-09T22:06:20.612142Z"
    },
    "papermill": {
     "duration": 0.025452,
     "end_time": "2023-03-09T22:06:20.615024",
     "exception": false,
     "start_time": "2023-03-09T22:06:20.589572",
     "status": "completed"
    },
    "tags": []
   },
   "outputs": [
    {
     "data": {
      "text/plain": [
       "TV-MA          3207\n",
       "TV-14          2160\n",
       "TV-PG           863\n",
       "R               799\n",
       "PG-13           490\n",
       "TV-Y7           334\n",
       "TV-Y            307\n",
       "PG              287\n",
       "TV-G            220\n",
       "NR               80\n",
       "G                41\n",
       "unavailable       7\n",
       "TV-Y7-FV          6\n",
       "NC-17             3\n",
       "UR                3\n",
       "Name: rating, dtype: int64"
      ]
     },
     "execution_count": 29,
     "metadata": {},
     "output_type": "execute_result"
    }
   ],
   "source": [
    "df['rating'].value_counts()"
   ]
  },
  {
   "cell_type": "markdown",
   "id": "72743b8b",
   "metadata": {
    "papermill": {
     "duration": 0.013669,
     "end_time": "2023-03-09T22:06:20.643095",
     "exception": false,
     "start_time": "2023-03-09T22:06:20.629426",
     "status": "completed"
    },
    "tags": []
   },
   "source": [
    " ### lets check what are the major ratings given to netflix show"
   ]
  },
  {
   "cell_type": "code",
   "execution_count": 30,
   "id": "2783ce0c",
   "metadata": {
    "execution": {
     "iopub.execute_input": "2023-03-09T22:06:20.672963Z",
     "iopub.status.busy": "2023-03-09T22:06:20.672349Z",
     "iopub.status.idle": "2023-03-09T22:06:20.856697Z",
     "shell.execute_reply": "2023-03-09T22:06:20.855749Z"
    },
    "papermill": {
     "duration": 0.20195,
     "end_time": "2023-03-09T22:06:20.859067",
     "exception": false,
     "start_time": "2023-03-09T22:06:20.657117",
     "status": "completed"
    },
    "tags": []
   },
   "outputs": [
    {
     "data": {
      "image/png": "[encoded data removed]",
      "text/plain": [
       "<Figure size 1200x600 with 1 Axes>"
      ]
     },
     "metadata": {},
     "output_type": "display_data"
    }
   ],
   "source": [
    "plt.figure(figsize= (12,6))\n",
    "sns.countplot(x= 'rating', order = df['rating'].value_counts().index[:10],data = df)\n",
    "plt.title(\" rating of shows on netflix vs count\")\n",
    "plt.show()\n"
   ]
  },
  {
   "cell_type": "markdown",
   "id": "0fb9b21b",
   "metadata": {
    "papermill": {
     "duration": 0.014205,
     "end_time": "2023-03-09T22:06:20.888117",
     "exception": false,
     "start_time": "2023-03-09T22:06:20.873912",
     "status": "completed"
    },
    "tags": []
   },
   "source": [
    "### most of the shows has TV-MA and TV-14 rating"
   ]
  },
  {
   "cell_type": "code",
   "execution_count": 31,
   "id": "2b92988d",
   "metadata": {
    "execution": {
     "iopub.execute_input": "2023-03-09T22:06:20.919038Z",
     "iopub.status.busy": "2023-03-09T22:06:20.918376Z",
     "iopub.status.idle": "2023-03-09T22:06:20.926402Z",
     "shell.execute_reply": "2023-03-09T22:06:20.925377Z"
    },
    "papermill": {
     "duration": 0.025837,
     "end_time": "2023-03-09T22:06:20.928330",
     "exception": false,
     "start_time": "2023-03-09T22:06:20.902493",
     "status": "completed"
    },
    "tags": []
   },
   "outputs": [
    {
     "data": {
      "text/plain": [
       "Int64Index([2018, 2017, 2019, 2020, 2016, 2021, 2015, 2014, 2013, 2012, 2010,\n",
       "            2011, 2009, 2008, 2006, 2007, 2005, 2004, 2003, 2002],\n",
       "           dtype='int64')"
      ]
     },
     "execution_count": 31,
     "metadata": {},
     "output_type": "execute_result"
    }
   ],
   "source": [
    "df['release_year'].value_counts().index[:20]"
   ]
  },
  {
   "cell_type": "code",
   "execution_count": 32,
   "id": "57b86e9f",
   "metadata": {
    "execution": {
     "iopub.execute_input": "2023-03-09T22:06:20.959393Z",
     "iopub.status.busy": "2023-03-09T22:06:20.958709Z",
     "iopub.status.idle": "2023-03-09T22:06:21.202978Z",
     "shell.execute_reply": "2023-03-09T22:06:21.201854Z"
    },
    "papermill": {
     "duration": 0.262266,
     "end_time": "2023-03-09T22:06:21.205369",
     "exception": false,
     "start_time": "2023-03-09T22:06:20.943103",
     "status": "completed"
    },
    "tags": []
   },
   "outputs": [
    {
     "data": {
      "image/png": "[encoded data removed]",
      "text/plain": [
       "<Figure size 1200x600 with 1 Axes>"
      ]
     },
     "metadata": {},
     "output_type": "display_data"
    }
   ],
   "source": [
    "plt.figure(figsize=(12,6))\n",
    "sns.countplot(x= 'release_year',order= df['release_year'].value_counts().index[:20],data = df)\n",
    "plt.title(\"Content release in year  on netflix vs count\")\n",
    "plt.show()\n"
   ]
  },
  {
   "cell_type": "markdown",
   "id": "4a09d03c",
   "metadata": {
    "papermill": {
     "duration": 0.014423,
     "end_time": "2023-03-09T22:06:21.234821",
     "exception": false,
     "start_time": "2023-03-09T22:06:21.220398",
     "status": "completed"
    },
    "tags": []
   },
   "source": [
    "### Popular Generes Analysis"
   ]
  },
  {
   "cell_type": "code",
   "execution_count": 33,
   "id": "d3c7ae51",
   "metadata": {
    "execution": {
     "iopub.execute_input": "2023-03-09T22:06:21.266514Z",
     "iopub.status.busy": "2023-03-09T22:06:21.265880Z",
     "iopub.status.idle": "2023-03-09T22:06:21.562373Z",
     "shell.execute_reply": "2023-03-09T22:06:21.561342Z"
    },
    "papermill": {
     "duration": 0.314619,
     "end_time": "2023-03-09T22:06:21.564408",
     "exception": false,
     "start_time": "2023-03-09T22:06:21.249789",
     "status": "completed"
    },
    "tags": []
   },
   "outputs": [
    {
     "data": {
      "image/png": "[encoded data removed]",
      "text/plain": [
       "<Figure size 1200x600 with 1 Axes>"
      ]
     },
     "metadata": {},
     "output_type": "display_data"
    }
   ],
   "source": [
    "plt.figure(figsize=(12,6))\n",
    "sns.countplot(y= 'listed_in',order= df['listed_in'].value_counts().index[:20],data = df)\n",
    "plt.title(\"Top 20 generes on netfliex\")\n",
    "plt.show()\n"
   ]
  },
  {
   "cell_type": "code",
   "execution_count": 34,
   "id": "1fed48ee",
   "metadata": {
    "execution": {
     "iopub.execute_input": "2023-03-09T22:06:21.598620Z",
     "iopub.status.busy": "2023-03-09T22:06:21.597826Z",
     "iopub.status.idle": "2023-03-09T22:06:21.614288Z",
     "shell.execute_reply": "2023-03-09T22:06:21.613253Z"
    },
    "papermill": {
     "duration": 0.035601,
     "end_time": "2023-03-09T22:06:21.616440",
     "exception": false,
     "start_time": "2023-03-09T22:06:21.580839",
     "status": "completed"
    },
    "tags": []
   },
   "outputs": [
    {
     "data": {
      "text/html": [
       "<div>\n",
       "<style scoped>\n",
       "    .dataframe tbody tr th:only-of-type {\n",
       "        vertical-align: middle;\n",
       "    }\n",
       "\n",
       "    .dataframe tbody tr th {\n",
       "        vertical-align: top;\n",
       "    }\n",
       "\n",
       "    .dataframe thead th {\n",
       "        text-align: right;\n",
       "    }\n",
       "</style>\n",
       "<table border=\"1\" class=\"dataframe\">\n",
       "  <thead>\n",
       "    <tr style=\"text-align: right;\">\n",
       "      <th></th>\n",
       "      <th>show_id</th>\n",
       "      <th>type</th>\n",
       "      <th>title</th>\n",
       "      <th>director</th>\n",
       "      <th>cast</th>\n",
       "      <th>country</th>\n",
       "      <th>date_added</th>\n",
       "      <th>release_year</th>\n",
       "      <th>rating</th>\n",
       "      <th>duration</th>\n",
       "      <th>listed_in</th>\n",
       "      <th>description</th>\n",
       "    </tr>\n",
       "  </thead>\n",
       "  <tbody>\n",
       "    <tr>\n",
       "      <th>0</th>\n",
       "      <td>s1</td>\n",
       "      <td>Movie</td>\n",
       "      <td>Dick Johnson Is Dead</td>\n",
       "      <td>Kirsten Johnson</td>\n",
       "      <td>unavailable</td>\n",
       "      <td>United States</td>\n",
       "      <td>2021-09-25</td>\n",
       "      <td>2020</td>\n",
       "      <td>PG-13</td>\n",
       "      <td>90 min</td>\n",
       "      <td>Documentaries</td>\n",
       "      <td>As her father nears the end of his life, filmm...</td>\n",
       "    </tr>\n",
       "    <tr>\n",
       "      <th>1</th>\n",
       "      <td>s2</td>\n",
       "      <td>TV Show</td>\n",
       "      <td>Blood &amp; Water</td>\n",
       "      <td>unavailable</td>\n",
       "      <td>Ama Qamata, Khosi Ngema, Gail Mabalane, Thaban...</td>\n",
       "      <td>South Africa</td>\n",
       "      <td>2021-09-24</td>\n",
       "      <td>2021</td>\n",
       "      <td>TV-MA</td>\n",
       "      <td>2 Seasons</td>\n",
       "      <td>International TV Shows, TV Dramas, TV Mysteries</td>\n",
       "      <td>After crossing paths at a party, a Cape Town t...</td>\n",
       "    </tr>\n",
       "    <tr>\n",
       "      <th>2</th>\n",
       "      <td>s3</td>\n",
       "      <td>TV Show</td>\n",
       "      <td>Ganglands</td>\n",
       "      <td>Julien Leclercq</td>\n",
       "      <td>Sami Bouajila, Tracy Gotoas, Samuel Jouy, Nabi...</td>\n",
       "      <td>unavailable</td>\n",
       "      <td>2021-09-24</td>\n",
       "      <td>2021</td>\n",
       "      <td>TV-MA</td>\n",
       "      <td>1 Season</td>\n",
       "      <td>Crime TV Shows, International TV Shows, TV Act...</td>\n",
       "      <td>To protect his family from a powerful drug lor...</td>\n",
       "    </tr>\n",
       "    <tr>\n",
       "      <th>3</th>\n",
       "      <td>s4</td>\n",
       "      <td>TV Show</td>\n",
       "      <td>Jailbirds New Orleans</td>\n",
       "      <td>unavailable</td>\n",
       "      <td>unavailable</td>\n",
       "      <td>unavailable</td>\n",
       "      <td>2021-09-24</td>\n",
       "      <td>2021</td>\n",
       "      <td>TV-MA</td>\n",
       "      <td>1 Season</td>\n",
       "      <td>Docuseries, Reality TV</td>\n",
       "      <td>Feuds, flirtations and toilet talk go down amo...</td>\n",
       "    </tr>\n",
       "    <tr>\n",
       "      <th>4</th>\n",
       "      <td>s5</td>\n",
       "      <td>TV Show</td>\n",
       "      <td>Kota Factory</td>\n",
       "      <td>unavailable</td>\n",
       "      <td>Mayur More, Jitendra Kumar, Ranjan Raj, Alam K...</td>\n",
       "      <td>India</td>\n",
       "      <td>2021-09-24</td>\n",
       "      <td>2021</td>\n",
       "      <td>TV-MA</td>\n",
       "      <td>2 Seasons</td>\n",
       "      <td>International TV Shows, Romantic TV Shows, TV ...</td>\n",
       "      <td>In a city of coaching centers known to train I...</td>\n",
       "    </tr>\n",
       "  </tbody>\n",
       "</table>\n",
       "</div>"
      ],
      "text/plain": [
       "  show_id     type                  title         director  \\\n",
       "0      s1    Movie   Dick Johnson Is Dead  Kirsten Johnson   \n",
       "1      s2  TV Show          Blood & Water      unavailable   \n",
       "2      s3  TV Show              Ganglands  Julien Leclercq   \n",
       "3      s4  TV Show  Jailbirds New Orleans      unavailable   \n",
       "4      s5  TV Show           Kota Factory      unavailable   \n",
       "\n",
       "                                                cast        country  \\\n",
       "0                                        unavailable  United States   \n",
       "1  Ama Qamata, Khosi Ngema, Gail Mabalane, Thaban...   South Africa   \n",
       "2  Sami Bouajila, Tracy Gotoas, Samuel Jouy, Nabi...    unavailable   \n",
       "3                                        unavailable    unavailable   \n",
       "4  Mayur More, Jitendra Kumar, Ranjan Raj, Alam K...          India   \n",
       "\n",
       "  date_added  release_year rating   duration  \\\n",
       "0 2021-09-25          2020  PG-13     90 min   \n",
       "1 2021-09-24          2021  TV-MA  2 Seasons   \n",
       "2 2021-09-24          2021  TV-MA   1 Season   \n",
       "3 2021-09-24          2021  TV-MA   1 Season   \n",
       "4 2021-09-24          2021  TV-MA  2 Seasons   \n",
       "\n",
       "                                           listed_in  \\\n",
       "0                                      Documentaries   \n",
       "1    International TV Shows, TV Dramas, TV Mysteries   \n",
       "2  Crime TV Shows, International TV Shows, TV Act...   \n",
       "3                             Docuseries, Reality TV   \n",
       "4  International TV Shows, Romantic TV Shows, TV ...   \n",
       "\n",
       "                                         description  \n",
       "0  As her father nears the end of his life, filmm...  \n",
       "1  After crossing paths at a party, a Cape Town t...  \n",
       "2  To protect his family from a powerful drug lor...  \n",
       "3  Feuds, flirtations and toilet talk go down amo...  \n",
       "4  In a city of coaching centers known to train I...  "
      ]
     },
     "execution_count": 34,
     "metadata": {},
     "output_type": "execute_result"
    }
   ],
   "source": [
    "df.head()"
   ]
  },
  {
   "cell_type": "code",
   "execution_count": null,
   "id": "bbfe42fd",
   "metadata": {
    "papermill": {
     "duration": 0.015729,
     "end_time": "2023-03-09T22:06:21.648409",
     "exception": false,
     "start_time": "2023-03-09T22:06:21.632680",
     "status": "completed"
    },
    "tags": []
   },
   "outputs": [],
   "source": []
  },
  {
   "cell_type": "markdown",
   "id": "2df9f2ee",
   "metadata": {
    "papermill": {
     "duration": 0.015859,
     "end_time": "2023-03-09T22:06:21.680346",
     "exception": false,
     "start_time": "2023-03-09T22:06:21.664487",
     "status": "completed"
    },
    "tags": []
   },
   "source": [
    "### Summary"
   ]
  },
  {
   "cell_type": "markdown",
   "id": "22792d40",
   "metadata": {
    "papermill": {
     "duration": 0.015689,
     "end_time": "2023-03-09T22:06:21.711879",
     "exception": false,
     "start_time": "2023-03-09T22:06:21.696190",
     "status": "completed"
    },
    "tags": []
   },
   "source": [
    "So far we perform the lote of operations over the dataset and find more information from it.if we have conclude the dataset in few line . then we can say that:\n",
    "1) netflix more movies then TV shows\n",
    "2) most number of movies and TV shows produced by United states, followed by india who produced the second most no.of movies on netfliex.\n",
    "3) Most of the content on netflix (movies and TV shows combined) is for mature audiences\n",
    "4) 2018 is the year in which netfliex relesed more no.of as compared to other years.\n",
    "5) international movies and dramas are most popular Geners on netflix\n"
   ]
  }
 ],
 "metadata": {
  "kernelspec": {
   "display_name": "Python 3",
   "language": "python",
   "name": "python3"
  },
  "language_info": {
   "codemirror_mode": {
    "name": "ipython",
    "version": 3
   },
   "file_extension": ".py",
   "mimetype": "text/x-python",
   "name": "python",
   "nbconvert_exporter": "python",
   "pygments_lexer": "ipython3",
   "version": "3.7.12"
  },
  "papermill": {
   "default_parameters": {},
   "duration": 13.511324,
   "end_time": "2023-03-09T22:06:22.449760",
   "environment_variables": {},
   "exception": null,
   "input_path": "__notebook__.ipynb",
   "output_path": "__notebook__.ipynb",
   "parameters": {},
   "start_time": "2023-03-09T22:06:08.938436",
   "version": "2.4.0"
  }
 },
 "nbformat": 4,
 "nbformat_minor": 5
}
